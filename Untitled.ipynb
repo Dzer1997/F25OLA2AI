{
 "cells": [
  {
   "cell_type": "code",
   "execution_count": null,
   "id": "34a5a538-b2a5-4585-9139-e1fab6c01ce1",
   "metadata": {},
   "outputs": [],
   "source": []
  }
 ],
 "metadata": {
  "kernelspec": {
   "display_name": "",
   "name": ""
  },
  "language_info": {
   "name": ""
  }
 },
 "nbformat": 4,
 "nbformat_minor": 5
}
